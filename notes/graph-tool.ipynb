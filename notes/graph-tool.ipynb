{
 "cells": [
  {
   "cell_type": "markdown",
   "id": "0af0fb9a",
   "metadata": {},
   "source": [
    "# graph-tool的入门使用"
   ]
  },
  {
   "cell_type": "code",
   "execution_count": 48,
   "id": "760d1643",
   "metadata": {},
   "outputs": [],
   "source": [
    "from graph_tool.all import *"
   ]
  },
  {
   "cell_type": "code",
   "execution_count": 49,
   "id": "1d1f5e28",
   "metadata": {},
   "outputs": [],
   "source": [
    "# 创建一个空graph\n",
    "g = Graph()"
   ]
  },
  {
   "cell_type": "code",
   "execution_count": 50,
   "id": "f30a7fe0",
   "metadata": {},
   "outputs": [],
   "source": [
    "# 默认是directed的\n",
    "g = Graph(directed=False)"
   ]
  },
  {
   "cell_type": "code",
   "execution_count": 51,
   "id": "01a0a223",
   "metadata": {},
   "outputs": [],
   "source": [
    "# 添加结点\n",
    "v1 = g.add_vertex()\n",
    "v2 = g.add_vertex()\n",
    "v3 = g.add_vertex()\n",
    "v4 = g.add_vertex()\n",
    "v5 = g.add_vertex()"
   ]
  },
  {
   "cell_type": "code",
   "execution_count": 52,
   "id": "072020a8",
   "metadata": {},
   "outputs": [],
   "source": [
    "# 添加边\n",
    "e1 = g.add_edge(v1, v2)\n",
    "e2 = g.add_edge(v1, v3)\n",
    "e3 = g.add_edge(v2, v3)\n",
    "e4 = g.add_edge(v3, v4)\n",
    "e5 = g.add_edge(v4, v5)\n",
    "e6 = g.add_edge(v3, v5)"
   ]
  },
  {
   "cell_type": "code",
   "execution_count": 53,
   "id": "55067768",
   "metadata": {},
   "outputs": [
    {
     "data": {
      "text/plain": [
       "<VertexPropertyMap object with value type 'vector<double>', for Graph 0x17188e280, at 0x10e0fe400>"
      ]
     },
     "execution_count": 53,
     "metadata": {},
     "output_type": "execute_result"
    }
   ],
   "source": [
    "# 图的可视化\n",
    "graph_draw(g, vertex_text=g.vertex_index, output=\"demo1.png\")"
   ]
  },
  {
   "cell_type": "markdown",
   "id": "6f734f9f",
   "metadata": {},
   "source": [
    "<div>\n",
    "<img src='demo1.png' width='300' height='300'/>\n",
    "</div>"
   ]
  },
  {
   "cell_type": "code",
   "execution_count": 54,
   "id": "ec82b930",
   "metadata": {},
   "outputs": [
    {
     "name": "stdout",
     "output_type": "stream",
     "text": [
      "2\n"
     ]
    }
   ],
   "source": [
    "# 查看某个结点的出度\n",
    "print(v1.out_degree())"
   ]
  },
  {
   "cell_type": "code",
   "execution_count": 55,
   "id": "5221eec4",
   "metadata": {},
   "outputs": [
    {
     "name": "stdout",
     "output_type": "stream",
     "text": [
      "0 1\n"
     ]
    }
   ],
   "source": [
    "# 查看边的特征\n",
    "print(e1.source(), e1.target())"
   ]
  },
  {
   "cell_type": "code",
   "execution_count": 56,
   "id": "08d5cde6",
   "metadata": {},
   "outputs": [
    {
     "name": "stdout",
     "output_type": "stream",
     "text": [
      "0\n"
     ]
    }
   ],
   "source": [
    "# 每个结点在图中有固定的下标，可以通过vertex_index获取\n",
    "print(g.vertex_index[v1])"
   ]
  },
  {
   "cell_type": "code",
   "execution_count": 57,
   "id": "f0eec3fc",
   "metadata": {},
   "outputs": [],
   "source": [
    "# 删除节点和边\n",
    "g.remove_edge(e1)  \n",
    "g.remove_vertex(v1)  "
   ]
  },
  {
   "cell_type": "code",
   "execution_count": 58,
   "id": "0dfa5864",
   "metadata": {},
   "outputs": [
    {
     "data": {
      "text/plain": [
       "<VertexPropertyMap object with value type 'vector<double>', for Graph 0x17188e280, at 0x171895130>"
      ]
     },
     "execution_count": 58,
     "metadata": {},
     "output_type": "execute_result"
    }
   ],
   "source": [
    "graph_draw(g, vertex_text=g.vertex_index, output=\"demo2.png\")"
   ]
  },
  {
   "cell_type": "markdown",
   "id": "af6dec5e",
   "metadata": {},
   "source": [
    "<div>\n",
    "<img src='demo2.png' width='200' height='200'/>\n",
    "</div>"
   ]
  },
  {
   "cell_type": "code",
   "execution_count": 59,
   "id": "1d0d7113",
   "metadata": {},
   "outputs": [
    {
     "name": "stdout",
     "output_type": "stream",
     "text": [
      "0\n",
      "(0, 1)\n"
     ]
    }
   ],
   "source": [
    "# 通过下标获取结点和边\n",
    "v = g.vertex(0)\n",
    "print(v)\n",
    "e = g.edge(0, 1)\n",
    "print(e)"
   ]
  },
  {
   "cell_type": "code",
   "execution_count": 60,
   "id": "5a01f05a",
   "metadata": {},
   "outputs": [
    {
     "name": "stdout",
     "output_type": "stream",
     "text": [
      "0\n",
      "1\n",
      "2\n",
      "3\n",
      "-----------\n",
      "(0, 1)\n",
      "(1, 2)\n",
      "(1, 3)\n",
      "(2, 3)\n"
     ]
    }
   ],
   "source": [
    "# 迭代查看全部结点和边\n",
    "for v in g.vertices():\n",
    "    print(v)\n",
    "print('-----------')\n",
    "for e in g.edges():\n",
    "    print(e)"
   ]
  },
  {
   "cell_type": "code",
   "execution_count": 61,
   "id": "791ec641",
   "metadata": {},
   "outputs": [
    {
     "name": "stdout",
     "output_type": "stream",
     "text": [
      "v:  0\n",
      "1\n",
      "------\n",
      "v:  1\n",
      "2\n",
      "3\n",
      "0\n",
      "------\n",
      "v:  2\n",
      "3\n",
      "1\n",
      "------\n",
      "v:  3\n",
      "2\n",
      "1\n",
      "------\n"
     ]
    }
   ],
   "source": [
    "# 迭代查看全部节点的邻居节点\n",
    "for v in g.vertices():\n",
    "#    for e in v.out_edges():\n",
    "#        print(e)\n",
    "   print('v: ', v)\n",
    "   for w in v.out_neighbors():\n",
    "       print(w)\n",
    "   print('------')\n",
    "    "
   ]
  },
  {
   "cell_type": "code",
   "execution_count": 62,
   "id": "bb414ee9",
   "metadata": {},
   "outputs": [
    {
     "name": "stdout",
     "output_type": "stream",
     "text": [
      "v:  0\n",
      "(0, 1)\n",
      "------\n",
      "v:  1\n",
      "(1, 2)\n",
      "(1, 3)\n",
      "(1, 0)\n",
      "------\n",
      "v:  2\n",
      "(2, 3)\n",
      "(2, 1)\n",
      "------\n",
      "v:  3\n",
      "(3, 2)\n",
      "(3, 1)\n",
      "------\n"
     ]
    }
   ],
   "source": [
    "# 迭代查看全部节点的邻居节点的边\n",
    "for v in g.vertices():\n",
    "   print('v: ', v)\n",
    "   for e in v.out_edges():\n",
    "       print(e)\n",
    "   print('------')"
   ]
  },
  {
   "cell_type": "markdown",
   "id": "d28d4da9",
   "metadata": {},
   "source": [
    "# 属性映射\n",
    "属性映射是一种将附加信息与顶点、边或图形本身关联的方法。\n",
    "\n",
    "因此有三种类型的属性映射：顶点、边和图。它们由类VertexPropertyMap, EdgePropertyMap, and GraphPropertyMap处理。每个创建的特性映射都有一个关联的值类型，必须从预定义的集合中选择：\n",
    "\n",
    "---\n",
    "\n",
    "<div>\n",
    "<img src='imgs/pro_map.png' width='400' height='400'/>\n",
    "</div>"
   ]
  },
  {
   "cell_type": "markdown",
   "id": "55ae1f98",
   "metadata": {},
   "source": [
    "## 使用Property maps 给图、结点、边 赋固定type的值\n",
    "\n",
    " 使用： new_vertex_property()，new_edge_property() ，new_graph_property() "
   ]
  },
  {
   "cell_type": "code",
   "execution_count": 88,
   "id": "68ce9193",
   "metadata": {},
   "outputs": [],
   "source": [
    "from numpy.random import randint\n",
    "\n",
    "g1 = Graph()\n",
    "g1.add_vertex(10) # 添加10个结点\n",
    "\n",
    "# insert some random links\n",
    "for s,t in zip(randint(0, 10,10), randint(0, 10,10)):  # 任意生成两个0-10之间整数\n",
    "    g1.add_edge(g1.vertex(s), g1.vertex(t))\n",
    "\n",
    "vprop_double = g1.new_vertex_property(\"double\")            # Double类型的结点\n",
    "v = g1.vertex(5)\n",
    "vprop_double[v] = 3.1416\n",
    "\n",
    "vprop_vint = g1.new_vertex_property(\"vector<int>\")         # ints类型的结点\n",
    "v = g1.vertex(6)\n",
    "vprop_vint[v] = [1, 3, 6]\n",
    "\n",
    "eprop_dict = g1.new_edge_property(\"object\")                # python中任意类型的边\n",
    "e = g1.edges().next()\n",
    "eprop_dict[e] = {\"foo\": \"bar\", \"gnu\": 42}                 # In this case, a dict.\n",
    "\n",
    "gprop_bool = g1.new_graph_property(\"bool\")                 # Boolean类型的graph\n",
    "gprop_bool[g1] = True"
   ]
  },
  {
   "cell_type": "code",
   "execution_count": 99,
   "id": "8d4bdec4",
   "metadata": {},
   "outputs": [
    {
     "data": {
      "text/plain": [
       "array([1, 3, 6], dtype=int32)"
      ]
     },
     "execution_count": 99,
     "metadata": {},
     "output_type": "execute_result"
    }
   ],
   "source": [
    "vprop_vint[6]"
   ]
  },
  {
   "cell_type": "code",
   "execution_count": 90,
   "id": "56d9ba3d",
   "metadata": {},
   "outputs": [
    {
     "data": {
      "text/plain": [
       "<VertexPropertyMap object with value type 'vector<double>', for Graph 0x1718955b0, at 0x17188bb20>"
      ]
     },
     "execution_count": 90,
     "metadata": {},
     "output_type": "execute_result"
    }
   ],
   "source": [
    "graph_draw(g1, vertex_text=g1.vertex_index, output=\"demo3.png\")"
   ]
  },
  {
   "cell_type": "markdown",
   "id": "3c40bd6b",
   "metadata": {},
   "source": [
    "<div>\n",
    "<img src='demo3.png' width='500' height='500'/>\n",
    "</div>"
   ]
  },
  {
   "cell_type": "markdown",
   "id": "ba13e01b",
   "metadata": {},
   "source": [
    "## 内部属性映射\n",
    "\n",
    "可以将任何创建的属性映射设置为对应图的自身属性。 这意味着它将被复制并与图形一起保存到文件中。\n",
    "\n",
    "通过将属性包含在图形的字典式属性中来对属性进行内部化vertex_properties，edge_properties或graph_properties。当插入到图中时，属性映射必须具有唯一的名称（在相同类型的名称之间）：\n"
   ]
  },
  {
   "cell_type": "code",
   "execution_count": 93,
   "id": "e610e035",
   "metadata": {},
   "outputs": [],
   "source": [
    "from graph_tool.all import *\n",
    "\n",
    "# 定义图\n",
    "g2 = Graph()\n",
    "\n",
    "# 定义多种节点特征\n",
    "vprop_name = g2.new_vertex_property(\"string\")\n",
    "vprop_concepts = g2.new_vertex_property(\"vector<string>\")\n",
    "vprop_sentidxs = g2.new_vertex_property(\"vector<int32_t>\")\n",
    "# 添加节点\n",
    "v = g2.add_vertex()\n",
    "# 给结点添加数据\n",
    "vprop_name[v] = 'apple'\n",
    "vprop_concepts[v] = ['A', 'B']\n",
    "vprop_sentidxs[v] = [1,2]\n",
    "\n",
    "\n",
    "# 任何创建的property可以设定为某个graph的自身属性，这样就意味着，当你copy和存储图时，这些属性会更图一起存在。\n",
    "\n",
    "# 把这些属性插入到图中，同时取一个名字\n",
    "g2.vertex_properties[\"name\"] = vprop_name\n",
    "g2.vertex_properties[\"relations\"] = vprop_concepts\n",
    "g2.vertex_properties[\"ids\"] = vprop_sentidxs"
   ]
  },
  {
   "cell_type": "code",
   "execution_count": 94,
   "id": "afa5c521",
   "metadata": {},
   "outputs": [
    {
     "data": {
      "text/plain": [
       "<VertexPropertyMap object with value type 'vector<double>', for Graph 0x16f3498b0, at 0x1718ac640>"
      ]
     },
     "execution_count": 94,
     "metadata": {},
     "output_type": "execute_result"
    }
   ],
   "source": [
    "graph_draw(g_1, vertex_text=g_1.vertex_index, output=\"demo4.png\")"
   ]
  },
  {
   "cell_type": "markdown",
   "id": "af6b1b11",
   "metadata": {},
   "source": [
    "<div>\n",
    "<img src='demo4.png' width='200' height='200'/>\n",
    "</div>"
   ]
  },
  {
   "cell_type": "code",
   "execution_count": 111,
   "id": "5070992c",
   "metadata": {},
   "outputs": [
    {
     "name": "stdout",
     "output_type": "stream",
     "text": [
      "ids            (vertex)  (type: vector<int32_t>)\n",
      "name           (vertex)  (type: string)\n",
      "relations      (vertex)  (type: vector<string>)\n"
     ]
    }
   ],
   "source": [
    "g2.list_properties()"
   ]
  },
  {
   "cell_type": "code",
   "execution_count": 112,
   "id": "f8d1c5dd",
   "metadata": {},
   "outputs": [],
   "source": [
    "g1.list_properties()"
   ]
  },
  {
   "cell_type": "code",
   "execution_count": 113,
   "id": "3ac1aa12",
   "metadata": {},
   "outputs": [],
   "source": [
    "g.list_properties()"
   ]
  },
  {
   "cell_type": "code",
   "execution_count": null,
   "id": "89085657",
   "metadata": {},
   "outputs": [],
   "source": []
  }
 ],
 "metadata": {
  "kernelspec": {
   "display_name": "Python 3",
   "language": "python",
   "name": "python3"
  },
  "language_info": {
   "codemirror_mode": {
    "name": "ipython",
    "version": 3
   },
   "file_extension": ".py",
   "mimetype": "text/x-python",
   "name": "python",
   "nbconvert_exporter": "python",
   "pygments_lexer": "ipython3",
   "version": "3.9.4"
  }
 },
 "nbformat": 4,
 "nbformat_minor": 5
}
