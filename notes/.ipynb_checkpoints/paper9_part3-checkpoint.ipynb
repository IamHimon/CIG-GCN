{
 "cells": [
  {
   "cell_type": "markdown",
   "id": "4a98de46",
   "metadata": {},
   "source": [
    "<br>\n",
    "<br>\n",
    "<br>\n",
    "<br>\n",
    "<br>\n",
    "<br>\n",
    "<br>\n",
    "\n",
    "## 《Matching Article Pairs with Graphical Decomposition and Convolutions》\n",
    "### 基于图分解和卷积的长文档匹配\n",
    "#### 作者：Bang Liu, Di Niu, Haojie Wei\n",
    "#### 单位：University of Alberta & Tencent\n",
    "#### 发表会议及时间：ACL 2019\n",
    "\n",
    "---\n",
    "\n",
    "### 论文主题：文本匹配\n",
    "### 授课老师：himon\n",
    "\n",
    "\n",
    "<br>\n",
    "<br>\n",
    "<br>\n",
    "<br>\n",
    "<br>\n",
    "<br>\n",
    "<br>\n",
    "<br>\n",
    "<br>\n",
    "<br>\n"
   ]
  },
  {
   "cell_type": "markdown",
   "id": "1afe1dd8",
   "metadata": {},
   "source": [
    "## 1. 前言\n",
    "### 1.1 上节课内容回顾\n",
    "\n",
    "\n",
    "\n",
    "### <font color='orange'>主要内容：</font>\n",
    "\n",
    "---\n",
    "\n",
    "<div>\n",
    "<img src='imgs/review.png' width='700' height='700'/>\n",
    "</div>\n",
    "\n",
    "---\n",
    "\n",
    "### <font color='orange'>主要知识点： </font>\n",
    "\n",
    "\n",
    "<div>\n",
    "<img src='imgs/main-know.png' width='600' height='600'/>\n",
    "</div>"
   ]
  },
  {
   "cell_type": "markdown",
   "id": "bcfa04dc",
   "metadata": {},
   "source": [
    "### 1.2 模型回顾\n",
    "\n",
    "\n",
    "### <font color='orange'>CIG-GCN： </font>\n",
    "\n",
    "---\n",
    "\n",
    "<div>\n",
    "<img src='imgs/model.png' width='1000' height='800'/>\n",
    "</div>\n",
    "\n",
    "---\n",
    "\n",
    "### <font color='orange'>CIG： </font>\n",
    "\n",
    "---\n",
    "\n",
    "<div>\n",
    "<img src='imgs/cig.png' width='700' height='500'/>\n",
    "</div>\n"
   ]
  },
  {
   "cell_type": "markdown",
   "id": "63b01e21",
   "metadata": {},
   "source": [
    "### 2 本课知识树\n",
    "\n",
    "\n",
    "### <font color='orange'>本课目标 </font>：\n",
    "\n",
    "1. <font color='green'>graph-tool的入门介绍 </font>\n",
    "2. <font color='green'> 主要知识点的拆分实现和讲解</font>\n",
    "3. <font color='green'>CIG-GCN模型复现</font>\n",
    "\n",
    "\n",
    "\n",
    "<div>\n",
    "<img src='imgs/know.png' width='700' height='700'/>\n",
    "</div>\n",
    "\n",
    "\n",
    "---"
   ]
  },
  {
   "cell_type": "markdown",
   "id": "b655189f",
   "metadata": {},
   "source": [
    "## 3. 准备工作\n",
    "### 3.1 项目环境配置\n",
    "\n",
    "\n",
    "```\n",
    "# install graph-tool\n",
    "conda create --name gt -c conda-forge graph-tool\n",
    "conda activate gt\n",
    "\n",
    "# install notebook\n",
    "conda install -n gt -c conda-forge ipython jupyter\n",
    "\n",
    "# install requriments\n",
    "conda activate gt\n",
    "pip install visdom==0.1.8.9\n",
    "pip install networkx==2.5.1\n",
    "pip install Levenshtein==0.12.0\n",
    "pip install gensim==3.8.1\n",
    "pip install nltk==3.6.2\n",
    "pip install sklearn\n",
    "pip install torch==1.8.1\n",
    "pip install pandas\n",
    "\n",
    "```\n",
    "\n",
    "\n",
    "\n",
    "\n",
    "###  3.2 数据集下载\n",
    "\n",
    "DataSet:  链接: https://pan.baidu.com/s/1aciiJiAuxEMhhwvQ-PanWg  密码: h917\n",
    "\n"
   ]
  },
  {
   "cell_type": "markdown",
   "id": "c693ef14",
   "metadata": {},
   "source": [
    "## 4.  主要知识点的拆分实现和讲解\n",
    "\n",
    "见  \"utils.ipynb\"\n",
    "\n",
    " <br>\n",
    " <br>\n",
    " <br>\n",
    " \n",
    "---"
   ]
  },
  {
   "cell_type": "markdown",
   "id": "adca24b8",
   "metadata": {},
   "source": [
    "## 5.  graph-tool的入门介绍\n",
    "\n",
    "见  \"graph-tool.ipynb\"\n",
    "\n",
    " <br>\n",
    " <br>\n",
    " <br>\n",
    " \n",
    "---"
   ]
  },
  {
   "cell_type": "markdown",
   "id": "4a12c567",
   "metadata": {},
   "source": [
    "## 6.  GCN模型实现\n",
    "\n",
    "见  \"gcn.ipynb\"\n",
    "\n",
    " <br>\n",
    " <br>\n",
    " <br>\n",
    " \n",
    "---"
   ]
  },
  {
   "cell_type": "markdown",
   "id": "812f97ea",
   "metadata": {},
   "source": [
    "## 7.论文CIG-GCN模型复现\n",
    "\n",
    "见 Pycharm\n",
    "\n",
    " <br>\n",
    " <br>\n",
    " <br>\n",
    " <br>\n",
    " <br>\n",
    " <br>\n",
    " \n",
    " \n",
    "---"
   ]
  },
  {
   "cell_type": "markdown",
   "id": "a9bf6f40",
   "metadata": {},
   "source": [
    "## 8.课后做业\n",
    "\n",
    "- 【代码实践】1.更详细的学习CIG-GCN的代码。尝试复现论文结果。\n",
    "- 【思考题】 根据“启发点”，尝试改进模型。引入BERT等模型，升级GCN，改进CIG的构造，验证是否有所改进？\n",
    "- 【总结】 完成一篇博客，记下完整的学习过程、知识点以及自己的思考。"
   ]
  }
 ],
 "metadata": {
  "kernelspec": {
   "display_name": "Python 3",
   "language": "python",
   "name": "python3"
  },
  "language_info": {
   "codemirror_mode": {
    "name": "ipython",
    "version": 3
   },
   "file_extension": ".py",
   "mimetype": "text/x-python",
   "name": "python",
   "nbconvert_exporter": "python",
   "pygments_lexer": "ipython3",
   "version": "3.9.4"
  }
 },
 "nbformat": 4,
 "nbformat_minor": 5
}
